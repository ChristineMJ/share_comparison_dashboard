{
 "cells": [
  {
   "cell_type": "markdown",
   "id": "a297ceac",
   "metadata": {},
   "source": [
    "Install Library to connect SQL server to Python"
   ]
  },
  {
   "cell_type": "code",
   "execution_count": 19,
   "id": "c9db8029",
   "metadata": {},
   "outputs": [
    {
     "name": "stdout",
     "output_type": "stream",
     "text": [
      "Requirement already satisfied: pyodbc in c:\\users\\mj\\anaconda3\\lib\\site-packages (4.0.32)\n",
      "Note: you may need to restart the kernel to use updated packages.\n"
     ]
    }
   ],
   "source": [
    "pip install pyodbc"
   ]
  },
  {
   "cell_type": "code",
   "execution_count": 51,
   "id": "7011c2e1",
   "metadata": {},
   "outputs": [],
   "source": [
    "import pyodbc\n",
    "import pandas as pd"
   ]
  },
  {
   "cell_type": "raw",
   "id": "16b771d8",
   "metadata": {},
   "source": [
    "driver = \"SQL SERVER\""
   ]
  },
  {
   "cell_type": "code",
   "execution_count": 108,
   "id": "e285925b",
   "metadata": {},
   "outputs": [],
   "source": [
    "server = \"LAPTOP-MVIS6VTF\\SQLEXPRESS\""
   ]
  },
  {
   "cell_type": "code",
   "execution_count": 115,
   "id": "b688abb7",
   "metadata": {},
   "outputs": [],
   "source": [
    "database = \"ProjectCovid19\""
   ]
  },
  {
   "cell_type": "markdown",
   "id": "c64d3e82",
   "metadata": {},
   "source": [
    "Create a variable to store the connection string"
   ]
  },
  {
   "cell_type": "code",
   "execution_count": 118,
   "id": "75c9b795",
   "metadata": {},
   "outputs": [],
   "source": [
    "connection_string = f\"\"\"\n",
    "    driver={{SQL SERVER}};\n",
    "    server={{LAPTOP-MVIS6VTF\\SQLEXPRESS}};\n",
    "    database = {{ProjectCovid19}};\n",
    "    TRUSTED_CONNECTION= yes;\n",
    "\"\"\"\n"
   ]
  },
  {
   "cell_type": "markdown",
   "id": "e94ab77c",
   "metadata": {},
   "source": [
    "Create SQL connection "
   ]
  },
  {
   "cell_type": "code",
   "execution_count": 122,
   "id": "a52ed765",
   "metadata": {},
   "outputs": [],
   "source": [
    "connection = pyodbc.connect(connection_string)"
   ]
  },
  {
   "cell_type": "code",
   "execution_count": 123,
   "id": "875fad0f",
   "metadata": {},
   "outputs": [
    {
     "name": "stdout",
     "output_type": "stream",
     "text": [
      "<pyodbc.Connection object at 0x0000018415C7A850>\n"
     ]
    }
   ],
   "source": [
    "print(connection)"
   ]
  },
  {
   "cell_type": "code",
   "execution_count": 54,
   "id": "cfa335fe",
   "metadata": {},
   "outputs": [
    {
     "ename": "IndentationError",
     "evalue": "unexpected indent (4022006137.py, line 2)",
     "output_type": "error",
     "traceback": [
      "\u001b[1;36m  Input \u001b[1;32mIn [54]\u001b[1;36m\u001b[0m\n\u001b[1;33m    print(\"create\")\u001b[0m\n\u001b[1;37m    ^\u001b[0m\n\u001b[1;31mIndentationError\u001b[0m\u001b[1;31m:\u001b[0m unexpected indent\n"
     ]
    }
   ],
   "source": [
    "## def create(connection):\n",
    "    print(\"create\")\n",
    "    cursor= connection.cursor()\n",
    "    cursor.execute(\n",
    "    'insert into Total_Deaths(location, population) values(?,?);', (1235, 'words')'\n",
    "    )\n",
    "    connection.commit()\n",
    "    read(connection)\n",
    "        "
   ]
  },
  {
   "cell_type": "code",
   "execution_count": 110,
   "id": "3151c4c5",
   "metadata": {},
   "outputs": [],
   "source": [
    "###connection =pyodbc.connect('driver={SQL SERVER}; server=LAPTOP-MVIS6VTF\\SQLEXPRESS; database = ProjectCovid19; TRUSTED_CONNECTION= yes')"
   ]
  },
  {
   "cell_type": "code",
   "execution_count": null,
   "id": "980929f9",
   "metadata": {},
   "outputs": [],
   "source": [
    "## def update(connection):\n",
    "    print(\"update\")\n",
    "    cursor= connection.cursor()\n",
    "    cursor.execute(\n",
    "    'update Total_Deaths set = ? where  = ?; ', ('words',12344)\n",
    "    )\n",
    "    connection.commit()\n",
    "    read(connection)\n",
    "        "
   ]
  },
  {
   "cell_type": "code",
   "execution_count": 98,
   "id": "22697e5e",
   "metadata": {
    "scrolled": true
   },
   "outputs": [],
   "source": [
    "##delete(connection)"
   ]
  },
  {
   "cell_type": "code",
   "execution_count": null,
   "id": "959c8a22",
   "metadata": {},
   "outputs": [],
   "source": []
  },
  {
   "cell_type": "code",
   "execution_count": null,
   "id": "825e3b85",
   "metadata": {},
   "outputs": [],
   "source": []
  },
  {
   "cell_type": "markdown",
   "id": "128919f1",
   "metadata": {},
   "source": [
    "Create a variable for the SQL Query"
   ]
  },
  {
   "cell_type": "code",
   "execution_count": 149,
   "id": "32123b8b",
   "metadata": {},
   "outputs": [],
   "source": [
    "query = \"SELECT * FROM ProjectCovid19 where CovidDeaths. CovidVaccinations\" "
   ]
  },
  {
   "cell_type": "markdown",
   "id": "4ee5a2c5",
   "metadata": {},
   "source": [
    "Connect and Extract Data"
   ]
  },
  {
   "cell_type": "code",
   "execution_count": 33,
   "id": "97b6b2b3",
   "metadata": {},
   "outputs": [],
   "source": [
    "connection = pyodbc.connect(connection_string);"
   ]
  },
  {
   "cell_type": "markdown",
   "id": "7706d398",
   "metadata": {},
   "source": [
    "Create a CURSOR that we can use to work in the database"
   ]
  },
  {
   "cell_type": "code",
   "execution_count": 150,
   "id": "72b4a388",
   "metadata": {},
   "outputs": [],
   "source": [
    "cursor = connection.cursor();"
   ]
  },
  {
   "cell_type": "code",
   "execution_count": 151,
   "id": "5f953e4f",
   "metadata": {},
   "outputs": [
    {
     "ename": "ProgrammingError",
     "evalue": "('42000', \"[42000] [Microsoft][ODBC SQL Server Driver][SQL Server]An expression of non-boolean type specified in a context where a condition is expected, near 'CovidVaccinations'. (4145) (SQLExecDirectW)\")",
     "output_type": "error",
     "traceback": [
      "\u001b[1;31m---------------------------------------------------------------------------\u001b[0m",
      "\u001b[1;31mProgrammingError\u001b[0m                          Traceback (most recent call last)",
      "Input \u001b[1;32mIn [151]\u001b[0m, in \u001b[0;36m<cell line: 1>\u001b[1;34m()\u001b[0m\n\u001b[1;32m----> 1\u001b[0m \u001b[43mcursor\u001b[49m\u001b[38;5;241;43m.\u001b[39;49m\u001b[43mexecute\u001b[49m\u001b[43m(\u001b[49m\u001b[43mquery\u001b[49m\u001b[43m)\u001b[49m\n",
      "\u001b[1;31mProgrammingError\u001b[0m: ('42000', \"[42000] [Microsoft][ODBC SQL Server Driver][SQL Server]An expression of non-boolean type specified in a context where a condition is expected, near 'CovidVaccinations'. (4145) (SQLExecDirectW)\")"
     ]
    }
   ],
   "source": [
    "cursor.execute(query)"
   ]
  },
  {
   "cell_type": "code",
   "execution_count": 141,
   "id": "7a4b5ce2",
   "metadata": {},
   "outputs": [
    {
     "ename": "ProgrammingError",
     "evalue": "No results.  Previous SQL was not a query.",
     "output_type": "error",
     "traceback": [
      "\u001b[1;31m---------------------------------------------------------------------------\u001b[0m",
      "\u001b[1;31mProgrammingError\u001b[0m                          Traceback (most recent call last)",
      "Input \u001b[1;32mIn [141]\u001b[0m, in \u001b[0;36m<cell line: 1>\u001b[1;34m()\u001b[0m\n\u001b[1;32m----> 1\u001b[0m covid_data \u001b[38;5;241m=\u001b[39m \u001b[43mcursor\u001b[49m\u001b[38;5;241;43m.\u001b[39;49m\u001b[43mfetchall\u001b[49m\u001b[43m(\u001b[49m\u001b[43m)\u001b[49m\n",
      "\u001b[1;31mProgrammingError\u001b[0m: No results.  Previous SQL was not a query."
     ]
    }
   ],
   "source": [
    "covid_data = cursor.fetchall()"
   ]
  },
  {
   "cell_type": "code",
   "execution_count": 133,
   "id": "de406d2b",
   "metadata": {},
   "outputs": [
    {
     "ename": "NameError",
     "evalue": "name 'covid_data' is not defined",
     "output_type": "error",
     "traceback": [
      "\u001b[1;31m---------------------------------------------------------------------------\u001b[0m",
      "\u001b[1;31mNameError\u001b[0m                                 Traceback (most recent call last)",
      "Input \u001b[1;32mIn [133]\u001b[0m, in \u001b[0;36m<cell line: 1>\u001b[1;34m()\u001b[0m\n\u001b[1;32m----> 1\u001b[0m \u001b[38;5;28mprint\u001b[39m(\u001b[43mcovid_data\u001b[49m[:\u001b[38;5;241m5\u001b[39m])\n",
      "\u001b[1;31mNameError\u001b[0m: name 'covid_data' is not defined"
     ]
    }
   ],
   "source": [
    "print(covid_data[:5])"
   ]
  },
  {
   "cell_type": "code",
   "execution_count": null,
   "id": "40b4e13a",
   "metadata": {},
   "outputs": [],
   "source": [
    "connection.close()"
   ]
  },
  {
   "cell_type": "code",
   "execution_count": null,
   "id": "b28ec39e",
   "metadata": {},
   "outputs": [],
   "source": []
  }
 ],
 "metadata": {
  "kernelspec": {
   "display_name": "Python 3 (ipykernel)",
   "language": "python",
   "name": "python3"
  },
  "language_info": {
   "codemirror_mode": {
    "name": "ipython",
    "version": 3
   },
   "file_extension": ".py",
   "mimetype": "text/x-python",
   "name": "python",
   "nbconvert_exporter": "python",
   "pygments_lexer": "ipython3",
   "version": "3.9.12"
  }
 },
 "nbformat": 4,
 "nbformat_minor": 5
}
